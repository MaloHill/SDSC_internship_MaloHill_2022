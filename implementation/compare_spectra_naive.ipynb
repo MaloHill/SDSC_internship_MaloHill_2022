{
 "cells": [
  {
   "cell_type": "markdown",
   "id": "ca1d9bf1",
   "metadata": {},
   "source": [
    "This notebook contains the first experiments made to familiarize with the data and converting two spectra into a contingency table for adequation testing. There is also a program to plot a spectrum in the beginning and histograms later."
   ]
  },
  {
   "cell_type": "code",
   "execution_count": 1,
   "id": "7acd0738",
   "metadata": {},
   "outputs": [],
   "source": [
    "### Import necessary libraries\n",
    "\n",
    "import os\n",
    "import numpy as np\n",
    "import pandas as pd\n",
    "import matplotlib.pyplot as plt\n",
    "import matplotlib.ticker as tk\n",
    "import scipy.stats as st"
   ]
  },
  {
   "cell_type": "code",
   "execution_count": 2,
   "id": "49f1aff4",
   "metadata": {},
   "outputs": [],
   "source": [
    "### Fix directories\n",
    "\n",
    "data_dir = \"../data/initial database/output\" #path to project folder\n",
    "\n",
    "os.chdir(data_dir) #Select the project directory"
   ]
  },
  {
   "cell_type": "code",
   "execution_count": 3,
   "id": "84302c28",
   "metadata": {},
   "outputs": [
    {
     "name": "stdout",
     "output_type": "stream",
     "text": [
      "Processing DiAcids\n",
      "Completed conversion of DiAcids\n",
      "Processing Fallopia\n",
      "Completed conversion of Fallopia\n",
      "Processing Ruthenium\n",
      "Completed conversion of Ruthenium\n",
      "Processing Ruthenium2\n",
      "Completed conversion of Ruthenium2\n"
     ]
    }
   ],
   "source": [
    "### Import the data from the csv files\n",
    "\n",
    "def select_directory(sample, file_name = \"compounds\", part = 1):\n",
    "    \"\"\"Returns the file directory corresponding to the file_name.csv file in the folder corresponding to the given sample\n",
    "    (DiAcids, Fallopia, Ruthenium or Ruthenium2).\n",
    "    \n",
    "    the input part indicates the subfolder in which it is stored (pt1 or pt2).\"\"\"\n",
    "    return data_dir + \"/\" + sample + \"/pt\" + str(part) + \"/\" + file_name + \".csv\"\n",
    "\n",
    "def df_from_csv(directory):\n",
    "    \"\"\"Extracts the csv file of the file contained in the directory and stores it in a pandas dataframe.\"\"\"\n",
    "    with open(directory) as file:\n",
    "        return pd.read_csv(file)\n",
    "    \n",
    "def data_wir(sample):\n",
    "    \"\"\"Return a dataframe containing the data of ms2_spectra and an additional column \"intratio\" of\n",
    "    the ratios ms2 peak intensity / sum of the intensities in the same ms2 spectrum.\n",
    "    \n",
    "    Note : wir means \"with intratio\" \"\"\"\n",
    "    \n",
    "    print(\"Processing \" + sample)\n",
    "    \n",
    "    #Read the csv files (there are two in this case, one in pt1 and one in pt2)\n",
    "    df_compounds = df_from_csv(select_directory(sample))\n",
    "    df_peaks = df_from_csv(select_directory(sample, file_name = \"ms2_peaks\"))\n",
    "    \n",
    "    #Adds the intensities of the peaks having the same spectrum_id.\n",
    "    sums =  df_peaks.groupby(\"spectrum_id\")[\"intensity\"].sum()\n",
    "    \n",
    "    #Generate the intratio column.\n",
    "    intratio = [df_peaks.intensity[i] / sums[df_peaks.spectrum_id[i]] for i in df_peaks.index]\n",
    "    \n",
    "    #Insert the intratio column into the dataframe\n",
    "    df_peaks[\"intratio\"] = intratio\n",
    "    \n",
    "    print(\"Completed conversion of \" + sample)\n",
    "    \n",
    "    return df_peaks\n",
    "\n",
    "#Convert the data into pandas dataframes and compute intratios.\n",
    "\n",
    "sample_names = [\"DiAcids\", \"Fallopia\", \"Ruthenium\", \"Ruthenium2\"]\n",
    "\n",
    "data = pd.DataFrame({\"sample\" : sample_names,\n",
    "                     \"compounds\" : [df_from_csv(select_directory(sample)) for sample in sample_names],\n",
    "                     \"peaks\" : [data_wir(sample) for sample in sample_names],\n",
    "                     \"spectra\" : [df_from_csv(select_directory(sample, file_name = \"ms2_spectra\")) for sample in sample_names]\n",
    "                    })\n",
    "data.index = sample_names"
   ]
  },
  {
   "cell_type": "code",
   "execution_count": 4,
   "id": "c55e4870",
   "metadata": {},
   "outputs": [],
   "source": [
    "def full_spectrum(sample):\n",
    "    \"\"\"Returns a dataframe indexed by spectrum_id with columns mz, intensity values and\n",
    "    sum of intensities of the ms2 peaks corresponding to this spectrum id.\"\"\"\n",
    "    \n",
    "    groups = data[\"peaks\"][sample].groupby([\"spectrum_id\"])\n",
    "    df = groups.agg(list)\n",
    "    df[\"sum\"] = groups.intensity.sum()\n",
    "    \n",
    "    return df.loc[:,[\"mz\", \"intensity\", \"sum\"]]\n",
    "\n",
    "full_sp = pd.Series([full_spectrum(sample) for sample in sample_names], index = sample_names)"
   ]
  },
  {
   "cell_type": "code",
   "execution_count": 5,
   "id": "9a2940dd",
   "metadata": {},
   "outputs": [
    {
     "data": {
      "image/png": "[encoded data removed]",
      "text/plain": [
       "<Figure size 432x288 with 1 Axes>"
      ]
     },
     "metadata": {
      "needs_background": "light"
     },
     "output_type": "display_data"
    }
   ],
   "source": [
    "#How to plot a bar chart of the peaks.\n",
    "\n",
    "df = full_sp[\"DiAcids\"]\n",
    "ind = df.index\n",
    "\n",
    "plt.bar(df.mz[ind[1]], df.intensity[ind[1]], color = \"#000000\", width = .1)\n",
    "\n",
    "plt.xlabel(\"mz\")\n",
    "plt.ylabel(\"intensity\")\n",
    "plt.yscale(\"log\")"
   ]
  },
  {
   "cell_type": "code",
   "execution_count": 6,
   "id": "c4a274c4",
   "metadata": {},
   "outputs": [
    {
     "data": {
      "image/png": "[encoded data removed]",
      "text/plain": [
       "<Figure size 432x288 with 1 Axes>"
      ]
     },
     "metadata": {
      "needs_background": "light"
     },
     "output_type": "display_data"
    }
   ],
   "source": [
    "df = full_sp[\"Fallopia\"]\n",
    "\n",
    "\n",
    "plt.bar(df.mz[\"R04_02_0418\"], df.intensity[\"R04_02_0418\"], color = \"#000000\", width = .1)\n",
    "\n",
    "plt.xlabel(\"mz\")\n",
    "plt.ylabel(\"intensity\")\n",
    "plt.yscale(\"log\")"
   ]
  },
  {
   "cell_type": "code",
   "execution_count": 7,
   "id": "02c4024b",
   "metadata": {},
   "outputs": [
    {
     "data": {
      "image/png": "[encoded data removed]",
      "text/plain": [
       "<Figure size 432x288 with 1 Axes>"
      ]
     },
     "metadata": {
      "needs_background": "light"
     },
     "output_type": "display_data"
    }
   ],
   "source": [
    "plt.bar(df.mz[\"R07_01_0426\"], df.intensity[\"R07_01_0426\"], color = \"#000000\", width = .1)\n",
    "\n",
    "plt.xlabel(\"mz\")\n",
    "plt.ylabel(\"intensity\")\n",
    "plt.yscale(\"log\")"
   ]
  },
  {
   "cell_type": "code",
   "execution_count": null,
   "id": "261671a8",
   "metadata": {},
   "outputs": [],
   "source": [
    "def get_spectrum(sample, spectrum_id):\n",
    "    \"\"\"Returns a pandas Series of the intensities associated to the given spectrum_id, indexed by\n",
    "    mz.\"\"\"\n",
    "    return pd.Series(full_sp[sample].intensity[spectrum_id], index = full_sp[sample].mz[spectrum_id])"
   ]
  },
  {
   "cell_type": "code",
   "execution_count": null,
   "id": "f54109e1",
   "metadata": {},
   "outputs": [],
   "source": [
    "#Computing a reasonable candidate for threshold below which two mz are considered different.\n",
    "#I only had to run this cell once, I then stored the threshold in the variable threshold_mz.\n",
    "\n",
    "for sample in sample_names:\n",
    "    df = full_sp[sample]\n",
    "    list_diff = []\n",
    "    for list_mz in df.mz:\n",
    "        for i in range(len(list_mz) - 1):\n",
    "            list_diff.append(list_mz[i + 1] - list_mz[i])\n",
    "    print(sample + \" : \" + str(min(list_diff)))"
   ]
  },
  {
   "cell_type": "code",
   "execution_count": null,
   "id": "f2db0a8c",
   "metadata": {},
   "outputs": [],
   "source": [
    "#Computing a reasonable candidate for the minimal intensity that can be recorded in a ms2 peak.\n",
    "#When comparing spectra, absence of a peak will be replaced by this value.\n",
    "\n",
    "\n",
    "#threshold_int = min([min(data[\"peaks\"][sample][\"intensity\"]) for sample in sample_names[1:]])\n",
    "print(\"DiAcids : \" + str(min(data[\"peaks\"][\"DiAcids\"][\"intensity\"])))\n",
    "print(\"Fallopia : \" + str(min(data[\"peaks\"][\"Fallopia\"][\"intensity\"])))\n",
    "print(\"Ruthenium : \" + str(min(data[\"peaks\"][\"Ruthenium\"][\"intensity\"])))\n",
    "print(\"Ruthenium2 : \" + str(min(data[\"peaks\"][\"Ruthenium2\"][\"intensity\"])))\n"
   ]
  },
  {
   "cell_type": "code",
   "execution_count": null,
   "id": "798927df",
   "metadata": {},
   "outputs": [],
   "source": [
    "df = data[\"peaks\"][\"Ruthenium\"]\n",
    "print(len(df.loc[df[\"intensity\"] < 250]))\n",
    "print(len(df))"
   ]
  },
  {
   "cell_type": "code",
   "execution_count": null,
   "id": "916868f5",
   "metadata": {},
   "outputs": [],
   "source": [
    "for sample in sample_names:\n",
    "    print(sample + \" : \" + str(max(data[\"peaks\"][sample][\"intensity\"])))"
   ]
  },
  {
   "cell_type": "code",
   "execution_count": null,
   "id": "18913832",
   "metadata": {},
   "outputs": [],
   "source": [
    "\"\"\"\n",
    "The previous cells yield the following threshold values :\n",
    "threshold_mz = 0.001\n",
    "\n",
    "threshold_DF = 250 #Threshold for DiAcids or Fallopia\n",
    "\n",
    "threshold_R = 2.5 #Threshold for Ruthenium\n",
    "\"\"\"\n",
    "\n",
    "def cont_table(samples, spectrum_ids, threshold_mz = .001, threshold_DF = 250, threshold_R = 2.5):\n",
    "    \"\"\"Given a couple of sample names and a couple of spectra id, returns the contingecy table of\n",
    "    the two spectra. If a mz value appears in a spectrum but not in the other one, it is assigned\n",
    "    the thresholding intensity value in the spectrum in which it doesn't appear.\"\"\"\n",
    "    \n",
    "    #Set the thresholding values associated to the sample.\n",
    "    if samples[0] in [\"DiAcids\", \"Fallopia\"]:\n",
    "        th_0 = threshold_DF\n",
    "    else:\n",
    "        th_0 = threshold_R\n",
    "    \n",
    "    if samples[1] in [\"DiAcids\", \"Fallopia\"]:\n",
    "        th_1 = threshold_DF\n",
    "    else:\n",
    "        th_1 = threshold_R\n",
    "    \n",
    "    #Get the data.\n",
    "    spectrum_0 = get_spectrum(samples[0], spectrum_ids[0])\n",
    "    spectrum_1 = get_spectrum(samples[1], spectrum_ids[1])\n",
    "    \n",
    "    #Those lists contain the mz values in increasing order and will be used as iterator.\n",
    "    mz_0, mz_1 = list(spectrum_0.index)[:], list(spectrum_1.index)[:]\n",
    "    \n",
    "    #Initialization of the table that will be returned.\n",
    "    table = [[], []]\n",
    "    \n",
    "    #Initialization of x and y.\n",
    "    x, y = mz_0.pop(0), mz_1.pop(0)\n",
    "    \n",
    "    while mz_0 and mz_1: #The loop stops when one of the lists is empty.\n",
    "        \n",
    "        #The mz are the same so the intensities are added to the table in same position.\n",
    "        if abs(x - y) < threshold_mz:\n",
    "            table[0].append(spectrum_0[x])\n",
    "            table[1].append(spectrum_1[y])\n",
    "            x = mz_0.pop(0)\n",
    "            y = mz_1.pop(0)\n",
    "        \n",
    "        #Since the mz are in increasing order, x < y means there is no peak at mz = x in\n",
    "        #spectrum 1, so the intensity for this peak in spectrum 0 is added to the first\n",
    "        #row of the table in same position as a thresholding value in the second row.\n",
    "        elif x < y:\n",
    "            table[0].append(spectrum_0[x])\n",
    "            table[1].append(th_1)\n",
    "            x = mz_0.pop(0)\n",
    "        \n",
    "        #The last case is y < x, which is the same as the previous block but the roles of\n",
    "        #spectrum 0 and spectrum 1 are reversed.\n",
    "        else:\n",
    "            table[0].append(th_0)\n",
    "            table[1].append(spectrum_1[y])\n",
    "            y = mz_1.pop(0)\n",
    "    \n",
    "    #Complete the table if one of the mz lists is not empty at the end of the while loop.\n",
    "    for x in mz_0:\n",
    "        table[0].append(spectrum_0[x])\n",
    "        table[1].append(th_1)\n",
    "    for y in mz_1:\n",
    "        table[0].append(th_0)\n",
    "        table[1].append(spectrum_1[y])\n",
    "        \n",
    "    return np.array(table)\n",
    "\n",
    "\n",
    "def cont_table_sharp(samples, spectrum_ids, threshold_mz = .001, threshold_DF = 250, threshold_R = 2.5):\n",
    "    \"\"\"Given a couple of sample names and a couple of spectra id, returns the contingecy table of\n",
    "    the two spectra. If a mz value doesn't appear in one spectrum, it is ruled out of the contingency\n",
    "    table.\"\"\"\n",
    "    \n",
    "    #Set the thresholding values associated to the sample.\n",
    "    if samples[0] in [\"DiAcids\", \"Fallopia\"]:\n",
    "        th_0 = threshold_DF\n",
    "    else:\n",
    "        th_0 = threshold_R\n",
    "    \n",
    "    if samples[1] in [\"DiAcids\", \"Fallopia\"]:\n",
    "        th_1 = threshold_DF\n",
    "    else:\n",
    "        th_1 = threshold_R\n",
    "    \n",
    "    #Get the data.\n",
    "    spectrum_0 = get_spectrum(samples[0], spectrum_ids[0])\n",
    "    spectrum_1 = get_spectrum(samples[1], spectrum_ids[1])\n",
    "    \n",
    "    #Those lists contain the mz values in increasing order and will be used as iterator.\n",
    "    mz_0, mz_1 = list(spectrum_0.index)[:], list(spectrum_1.index)[:]\n",
    "    \n",
    "    #Initialization of the table that will be returned.\n",
    "    table = [[], []]\n",
    "    \n",
    "    #Initialization of x and y.\n",
    "    x, y = mz_0.pop(0), mz_1.pop(0)\n",
    "    \n",
    "    while mz_0 and mz_1: #The loop stops when one of the lists is empty.\n",
    "        \n",
    "        #The mz are the same so the intensities are added to the table in same position.\n",
    "        if abs(x - y) < threshold_mz:\n",
    "            table[0].append(spectrum_0[x])\n",
    "            table[1].append(spectrum_1[y])\n",
    "            x = mz_0.pop(0)\n",
    "            y = mz_1.pop(0)\n",
    "        \n",
    "        elif x < y:\n",
    "            x = mz_0.pop(0)\n",
    "        \n",
    "        #The last case is y < x, which is the same as the previous block but the roles of\n",
    "        #spectrum 0 and spectrum 1 are reversed.\n",
    "        else:\n",
    "            y = mz_1.pop(0)\n",
    "        \n",
    "    return np.array(table)"
   ]
  },
  {
   "cell_type": "code",
   "execution_count": null,
   "id": "64467309",
   "metadata": {},
   "outputs": [],
   "source": [
    "print(full_sp[\"DiAcids\"].index[37])\n",
    "print(full_sp[\"Fallopia\"].index[5456])"
   ]
  },
  {
   "cell_type": "code",
   "execution_count": null,
   "id": "3d17ff30",
   "metadata": {},
   "outputs": [],
   "source": [
    "cont_table([\"DiAcids\", \"Fallopia\"], [\"AcidMix100_3o0kV_01_1032\", \"R07_01_0426\"])"
   ]
  },
  {
   "cell_type": "code",
   "execution_count": null,
   "id": "06024286",
   "metadata": {},
   "outputs": [],
   "source": [
    "def ml_stat(table):\n",
    "    \"\"\"Given a contingency table, compute the statistic of the maximum likelihood\n",
    "    for a test of independance between rows and columns, given by the formula\n",
    "    T_ML = sum_{i, j} table_{i, j} log(table_[i, j] / m_{i, j})\n",
    "    where m_{i, j} = (sum of row i) * (sum of column j) / (total sum of the table).\n",
    "    \n",
    "    hz is for handle zeroes.\"\"\"\n",
    "    \n",
    "    #Number of rows and columns of the table.\n",
    "    r, c = table.shape\n",
    "    \n",
    "    #Compute the sums of the columns.\n",
    "    col_sums = np.sum(table, axis = 0)\n",
    "\n",
    "    #Compute the sums of the rows and stores them as a column vector.\n",
    "    row_sums = np.expand_dims(np.sum(table, axis = 1), 1)\n",
    "    \n",
    "    #Total sum.\n",
    "    total = np.sum(row_sums)\n",
    "    \n",
    "    #Compute the m_{i, j}.\n",
    "    m = np.multiply(row_sums, col_sums) / total\n",
    "    \n",
    "    #Returns the result using the formula. The absolute value is here to get a positive result, negative being\n",
    "    #possible because of too poor machine precision when working with big numbers.\n",
    "    return 2 * abs(np.sum(table * np.nan_to_num(np.log(table / m)))) / 5e3\n",
    "\n",
    "def ml_stat_hz(table):\n",
    "    \"\"\"Given a contingency table, compute the statistic of the maximum likelihood\n",
    "    for a test of independance between rows and columns, given by the formula\n",
    "    T_ML = sum_{i, j} table_{i, j} log(table_[i, j] / m_{i, j})\n",
    "    where m_{i, j} = (sum of row i) * (sum of column j) / (total sum of the table).\n",
    "    \n",
    "    hz is for handle zeroes.\"\"\"\n",
    "    \n",
    "    #Number of rows and columns of the table.\n",
    "    r, c = table.shape\n",
    "    \n",
    "    #Compute the sums of the columns.\n",
    "    col_sums = np.sum(table, axis = 0)\n",
    "\n",
    "    #Compute the sums of the rows and stores them as a column vector.\n",
    "    row_sums = np.expand_dims(np.sum(table, axis = 1), 1)\n",
    "    \n",
    "    #Total sum.\n",
    "    total = np.sum(row_sums)\n",
    "    \n",
    "    #Compute the m_{i, j}.\n",
    "    m = np.multiply(row_sums, col_sums) / total\n",
    "    \n",
    "    #The expression might contain log(0), but it is always of the form 0 * log(0) so it can\n",
    "    #be replaced by 0. Anyway, it shouldn't happen because thresholding values are provided\n",
    "    #instead of zeros.\n",
    "    with np.errstate(invalid = 'ignore',divide = 'ignore'):\n",
    "        return 2 *  np.sum(table * np.nan_to_num(np.log(table / m)))"
   ]
  },
  {
   "cell_type": "code",
   "execution_count": null,
   "id": "e46a857e",
   "metadata": {},
   "outputs": [],
   "source": [
    "ml_stat(cont_table([\"DiAcids\", \"Fallopia\"], [\"AcidMix100_3o0kV_01_1032\", \"R07_01_0426\"]))"
   ]
  },
  {
   "cell_type": "markdown",
   "id": "9f27b6d1",
   "metadata": {},
   "source": [
    "As expected, the statistic is veery high since the two tables have nothing in common (their ms1 are not even the same)."
   ]
  },
  {
   "cell_type": "code",
   "execution_count": null,
   "id": "b519aeb9",
   "metadata": {},
   "outputs": [],
   "source": [
    "ml_stat(cont_table([\"Fallopia\", \"Fallopia\"], [\"R07_01_0426\", \"R07_01_0426\"]))"
   ]
  },
  {
   "cell_type": "code",
   "execution_count": null,
   "id": "6b4c1b86",
   "metadata": {},
   "outputs": [],
   "source": [
    "cont_table([\"Fallopia\", \"Fallopia\"], [\"R07_01_0426\", \"R07_01_0426\"])"
   ]
  },
  {
   "cell_type": "code",
   "execution_count": null,
   "id": "6a5dea48",
   "metadata": {},
   "outputs": [],
   "source": [
    "get_spectrum(\"Fallopia\", \"R07_01_0426\")"
   ]
  },
  {
   "cell_type": "code",
   "execution_count": null,
   "id": "2af08023",
   "metadata": {},
   "outputs": [],
   "source": [
    "x = np.linspace(0, 20, 1000)\n",
    "y = st.chi2.cdf\n",
    "\n",
    "plt.plot(x, st.chi2(2).pdf(x))\n",
    "plt.plot(x, st.chi2(5).pdf(x), color = \"black\")\n",
    "plt.plot(x, st.chi2(8).pdf(x), color = \"red\")\n",
    "plt.show()"
   ]
  },
  {
   "cell_type": "code",
   "execution_count": null,
   "id": "b32da73b",
   "metadata": {},
   "outputs": [],
   "source": [
    "def p_value_alt(samples, spectrum_ids):\n",
    "    \"\"\"Returns the p-value for an asymptotic likelihood test of independence for the contingency matrix computed from the\n",
    "    two spectra corresponding to the input samples and spectrum ids.\"\"\"\n",
    "     #Compute the ML statistic.\n",
    "    table = cont_table(samples, spectrum_ids)\n",
    "    t = ml_stat(table)\n",
    "    \n",
    "    #The p-value is 1 - the cdf of the statistic for the d-1-dof chi^2 law where d is the number of columns of the table.\n",
    "    return 1 - st.chi2(table.shape[1]).cdf(t)\n",
    "\n",
    "def p_sharp(samples, spectrum_ids):\n",
    "    \"\"\"Returns the p-value for an asymptotic likelihood test of independence for the contingency matrix computed from the\n",
    "    two spectra corresponding to the input samples and spectrum ids.\"\"\"\n",
    "     #Compute the ML statistic.\n",
    "    table = cont_table_sharp(samples, spectrum_ids)\n",
    "    t = ml_stat(table)\n",
    "    \n",
    "    #The p-value is 1 - the cdf of the statistic for the d-1-dof chi^2 law where d is the number of columns of the table.\n",
    "    return 1 - st.chi2(table.shape[1]).cdf(t)\n"
   ]
  },
  {
   "cell_type": "code",
   "execution_count": null,
   "id": "08bf8a7f",
   "metadata": {},
   "outputs": [],
   "source": [
    "p_value_alt([\"Fallopia\", \"Fallopia\"], [\"R07_01_0426\", \"R07_01_0426\"])"
   ]
  },
  {
   "cell_type": "markdown",
   "id": "7d165173",
   "metadata": {},
   "source": [
    "Accept the null hypothesis in this situation."
   ]
  },
  {
   "cell_type": "code",
   "execution_count": null,
   "id": "f4ee16e3",
   "metadata": {},
   "outputs": [],
   "source": [
    "p_value_alt([\"DiAcids\", \"Fallopia\"], [\"AcidMix100_3o0kV_01_1032\", \"R07_01_0426\"])"
   ]
  },
  {
   "cell_type": "markdown",
   "id": "e79abbc4",
   "metadata": {},
   "source": [
    "Here, reject the null hypothesis."
   ]
  },
  {
   "cell_type": "code",
   "execution_count": null,
   "id": "dae1fc6e",
   "metadata": {},
   "outputs": [],
   "source": [
    "#Returns True or False in function of the p-value for a test of level alpha.\n",
    "def al_test(samples, spectrum_ids, alpha = .05):\n",
    "    \"\"\"Returns the result of an asymptotic likelihood test of level alpha for the table of contingency induced\n",
    "    by the two input spectra.\"\"\"\n",
    "    return (p_value_alt(samples, spectrum_ids) < alpha )"
   ]
  },
  {
   "cell_type": "code",
   "execution_count": null,
   "id": "85e525d5",
   "metadata": {},
   "outputs": [],
   "source": [
    "al_test([\"Fallopia\", \"Fallopia\"], [\"R07_01_0426\", \"R07_01_0426\"])"
   ]
  },
  {
   "cell_type": "markdown",
   "id": "b209119f",
   "metadata": {},
   "source": [
    "This was just to check the functions work properly. Now we want to first determine if two spectra can come from the same compound by comparing their MS1, then apply the likelihood ratio test. Let's take the Ruthenium sample for testing this time\n",
    "because it contains less peaks than the others."
   ]
  },
  {
   "cell_type": "code",
   "execution_count": null,
   "id": "33013426",
   "metadata": {},
   "outputs": [],
   "source": [
    "sp_id = data[\"spectra\"][\"Ruthenium\"]\n",
    "df = full_sp[\"Ruthenium\"]\n",
    "\n",
    "sp_id.head(5)"
   ]
  },
  {
   "cell_type": "code",
   "execution_count": null,
   "id": "684bc116",
   "metadata": {},
   "outputs": [],
   "source": [
    "groups = sp_id.groupby([\"compound_id\"]).parent_mz.agg(list)\n",
    "\n",
    "print(max([(max(x) - min(x)) for x in groups]))"
   ]
  },
  {
   "cell_type": "code",
   "execution_count": null,
   "id": "40ca7803",
   "metadata": {},
   "outputs": [],
   "source": [
    "\"\"\"sp_id = data[\"spectra\"][\"Ruthenium\"]\n",
    "df = full_sp[\"Ruthenium\"]\n",
    "\n",
    "groups = sp_id.groupby([\"compound_id\"]).spectrum_id.agg(list)\n",
    "\n",
    "storage = []\n",
    "\n",
    "for comp_id in groups.index:\n",
    "    id_list = groups[comp_id]\n",
    "    var = []\n",
    "    for i in range(len(id_list)):\n",
    "        for j in range(i+1, len(id_list)):\n",
    "            var.append(p_value_alt([\"Ruthenium\", \"Ruthenium\"], [id_list[i], id_list[j]]))\n",
    "    storage.append([comp_id, var])\"\"\" #Commented because it takes a long time to run"
   ]
  },
  {
   "cell_type": "code",
   "execution_count": null,
   "id": "44083cc9",
   "metadata": {},
   "outputs": [],
   "source": [
    "\"\"\"storage[5:10]\"\"\" #this is all zeros"
   ]
  },
  {
   "cell_type": "code",
   "execution_count": null,
   "id": "8b9b1650",
   "metadata": {},
   "outputs": [],
   "source": [
    "\"\"\"print(max([max(x[1] + [0]) for x in storage]))\"\"\" #yields 0.0"
   ]
  },
  {
   "cell_type": "markdown",
   "id": "bea0da62",
   "metadata": {},
   "source": [
    "So : the likelihood test yield perfect adequation for all compounds of the Ruthenium data that have been identified as the same. (fishy : this is too perfect)."
   ]
  },
  {
   "cell_type": "code",
   "execution_count": null,
   "id": "38aedb88",
   "metadata": {},
   "outputs": [],
   "source": [
    "\"\"\"sp_id = data[\"spectra\"][\"Fallopia\"]\n",
    "df = full_sp[\"Fallopia\"]\n",
    "\n",
    "groups = sp_id.groupby([\"compound_id\"]).spectrum_id.agg(list)\n",
    "\n",
    "storage = []\n",
    "\n",
    "for comp_id in groups.index:\n",
    "    id_list = groups[comp_id]\n",
    "    var = []\n",
    "    for i in range(len(id_list)):\n",
    "        for j in range(i+1, len(id_list)):\n",
    "            var.append(p_value_alt([\"Fallopia\", \"Fallopia\"], [id_list[i], id_list[j]]))\n",
    "    storage.append([comp_id, var])\n",
    "    \n",
    "print(max([max(x[1] + [0]) for x in storage]))\"\"\"\n",
    "#Take minutes to run."
   ]
  },
  {
   "cell_type": "markdown",
   "id": "ba3aac27",
   "metadata": {},
   "source": [
    "Conclusions that I draw from this experiment : Getting a large p-value for some samples in millions is to be expected, it doesn't indicate that the test is failing. It is even good to know that the test doesn't yield 0 in every case, it means the program probably does what it has been asked to do.\n",
    "\n",
    "However, getting that much values close to 0 is not good : the test is wayy too conservative. I explain : with the testing methodology that has been put into place before, identification was certainly not achieved with a level of confidence that close to 1. The test gives a tremendously too large significance level, which is fishy. I think it comes from the fact that lower peaks are rendered irrelevant because the likelihood statistic weighs the peak significance proportionally to intensity. Thus, it is like performing the test only on the three largest peaks, which are most likely very close to one another because of the relation parameter/variance of Poisson laws."
   ]
  },
  {
   "cell_type": "code",
   "execution_count": null,
   "id": "24165415",
   "metadata": {},
   "outputs": [],
   "source": [
    "sp_id"
   ]
  },
  {
   "cell_type": "code",
   "execution_count": null,
   "id": "4bbdc8ff",
   "metadata": {},
   "outputs": [],
   "source": [
    "pd.set_option(\"display.max_rows\", None)\n",
    "#sp_id.loc[:, [\"compound_id\", \"parent_mz\"]].head(None)\n",
    "sp_id.sort_values(\"parent_mz\").loc[:, [\"compound_id\", \"parent_mz\"]].head(None)"
   ]
  },
  {
   "cell_type": "code",
   "execution_count": null,
   "id": "948fa998",
   "metadata": {},
   "outputs": [],
   "source": [
    "sp_id.loc[[sp_id[\"compound_id\"][i] in [\"Ruthenium_39\", \"Ruthenium_61\"] for i in range(len(sp_id[\"compound_id\"]))]]"
   ]
  },
  {
   "cell_type": "code",
   "execution_count": null,
   "id": "7355f4e8",
   "metadata": {},
   "outputs": [],
   "source": [
    "p_value_alt([\"Ruthenium\", \"Ruthenium\"], [\"20161201_Kat-3_pos_01_1744\", \"20161201_Kat-3_pos_03_1863\"])"
   ]
  },
  {
   "cell_type": "code",
   "execution_count": null,
   "id": "20821053",
   "metadata": {},
   "outputs": [],
   "source": [
    "p_sharp([\"Ruthenium\", \"Ruthenium\"], [\"20161201_Kat-3_pos_01_1744\", \"20161201_Kat-3_pos_03_1863\"])"
   ]
  },
  {
   "cell_type": "code",
   "execution_count": null,
   "id": "29d4a64b",
   "metadata": {},
   "outputs": [],
   "source": [
    "p_sharp([\"Ruthenium\", \"Ruthenium\"], [\"20161201_Kat-3_pos_01_1744\", \"20161201_Kat-3_pos_01_1757\"])"
   ]
  },
  {
   "cell_type": "code",
   "execution_count": null,
   "id": "8e7eef74",
   "metadata": {},
   "outputs": [],
   "source": [
    "df = full_sp[\"Ruthenium\"]\n",
    "ind = df.index\n",
    "\n",
    "plt.figure(figsize = (0.4 * 12, 0 . 4 * 22.5))\n",
    "\n",
    "plt.subplot(311)\n",
    "plt.bar(df.mz[\"20161201_Kat-3_pos_01_1744\"], df.intensity[\"20161201_Kat-3_pos_01_1744\"], color = \"#000000\", width = .1)\n",
    "plt.bar(df.mz[\"20161201_Kat-3_pos_03_1863\"], df.intensity[\"20161201_Kat-3_pos_03_1863\"], color = \"#FF9900\", width = .1)\n",
    "\n",
    "plt.xlabel(\"mz\")\n",
    "plt.ylabel(\"intensity\")\n",
    "plt.yscale(\"log\")\n",
    "\n",
    "\n",
    "plt.subplot(312)\n",
    "plt.bar(df.mz[\"20161201_Kat-3_pos_01_1744\"], df.intensity[\"20161201_Kat-3_pos_01_1744\"], color = \"#000000\", width = .1)\n",
    "plt.bar(df.mz[\"20161201_Kat-3_pos_01_1757\"], df.intensity[\"20161201_Kat-3_pos_01_1757\"], color = \"#FF9900\", width = .1)\n",
    "\n",
    "plt.xlabel(\"mz\")\n",
    "plt.ylabel(\"intensity\")\n",
    "plt.yscale(\"log\")\n",
    "\n",
    "plt.subplot(313)\n",
    "plt.bar(df.mz[\"20161201_Kat-3_pos_03_1863\"], df.intensity[\"20161201_Kat-3_pos_03_1863\"], color = \"#000000\", width = .1)\n",
    "plt.bar(df.mz[\"20161201_Kat-3_pos_01_1757\"], df.intensity[\"20161201_Kat-3_pos_01_1757\"], color = \"#FF9900\", width = .1)\n",
    "\n",
    "plt.xlabel(\"mz\")\n",
    "plt.ylabel(\"intensity\")\n",
    "plt.yscale(\"log\")\n",
    "\n",
    "plt.show()"
   ]
  },
  {
   "cell_type": "code",
   "execution_count": null,
   "id": "703c585e",
   "metadata": {},
   "outputs": [],
   "source": [
    "df = full_sp[\"Ruthenium\"]\n",
    "ind = df.index\n",
    "\n",
    "plt.bar(df.mz[\"20161201_Kat-3_pos_01_1744\"], df.intensity[\"20161201_Kat-3_pos_01_1744\"], color = \"#000000\", width = .1)\n",
    "plt.bar(df.mz[\"20161201_Kat-3_pos_01_1757\"], df.intensity[\"20161201_Kat-3_pos_01_1757\"], color = \"#FF9900\", width = .1)\n",
    "\n",
    "plt.xlabel(\"mz\")\n",
    "plt.ylabel(\"intensity\")\n",
    "plt.yscale(\"log\")"
   ]
  },
  {
   "cell_type": "code",
   "execution_count": null,
   "id": "ad5ba8d7",
   "metadata": {},
   "outputs": [],
   "source": [
    "def verysharp_table(samples, spectrum_ids, threshold_mz = .001, threshold_DF = 250, threshold_R = 2.5, cut_th = 5000):\n",
    "    \"\"\"Given a couple of sample names and a couple of spectra id, returns the contingecy table of\n",
    "    the two spectra. If a mz value doesn't appear in one spectrum, it is ruled out of the contingency\n",
    "    table.\"\"\"\n",
    "    \n",
    "    #Set the thresholding values associated to the sample.\n",
    "    if samples[0] in [\"DiAcids\", \"Fallopia\"]:\n",
    "        th_0 = threshold_DF\n",
    "    else:\n",
    "        th_0 = threshold_R\n",
    "    \n",
    "    if samples[1] in [\"DiAcids\", \"Fallopia\"]:\n",
    "        th_1 = threshold_DF\n",
    "    else:\n",
    "        th_1 = threshold_R\n",
    "    \n",
    "    #Get the data.\n",
    "    spectrum_0 = get_spectrum(samples[0], spectrum_ids[0])\n",
    "    spectrum_1 = get_spectrum(samples[1], spectrum_ids[1])\n",
    "    \n",
    "    #Those lists contain the mz values in increasing order and will be used as iterator.\n",
    "    mz_0, mz_1 = list(spectrum_0.index)[:], list(spectrum_1.index)[:]\n",
    "    \n",
    "    #Initialization of the table that will be returned.\n",
    "    table = [[], []]\n",
    "    \n",
    "    #Initialization of x and y.\n",
    "    x, y = mz_0.pop(0), mz_1.pop(0)\n",
    "    \n",
    "    while mz_0 and mz_1: #The loop stops when one of the lists is empty.\n",
    "        \n",
    "        #The mz are the same so the intensities are added to the table in same position.\n",
    "        if abs(x - y) < threshold_mz:\n",
    "            if spectrum_0[x] > cut_th or spectrum_1[y] > cut_th:\n",
    "                table[0].append(spectrum_0[x])\n",
    "                table[1].append(spectrum_1[y])\n",
    "                \n",
    "            x = mz_0.pop(0)\n",
    "            y = mz_1.pop(0)\n",
    "        \n",
    "        elif x < y:\n",
    "            if spectrum_0[x] > cut_th:\n",
    "                table[0].append(spectrum_0[x])\n",
    "                table[1].append(th_1)\n",
    "            x = mz_0.pop(0)\n",
    "        \n",
    "        else:\n",
    "            if spectrum_1[y] > cut_th:\n",
    "                table[0].append(th_0)\n",
    "                table[1].append(spectrum_1[y])\n",
    "            y = mz_1.pop(0)\n",
    "        \n",
    "    return np.array(table)"
   ]
  },
  {
   "cell_type": "code",
   "execution_count": null,
   "id": "85337f4f",
   "metadata": {},
   "outputs": [],
   "source": [
    "verysharp_table([\"DiAcids\", \"Fallopia\"], [\"AcidMix100_3o0kV_01_1032\", \"R07_01_0426\"])"
   ]
  },
  {
   "cell_type": "code",
   "execution_count": null,
   "id": "fec62d0f",
   "metadata": {},
   "outputs": [],
   "source": [
    "verysharp_table([\"Fallopia\", \"Fallopia\"], [\"R07_01_0426\", \"R07_01_0426\"])"
   ]
  },
  {
   "cell_type": "code",
   "execution_count": null,
   "id": "944e0161",
   "metadata": {},
   "outputs": [],
   "source": [
    "verysharp_table([\"Ruthenium\", \"Ruthenium\"], [\"20161201_Kat-3_pos_01_1744\", \"20161201_Kat-3_pos_01_1757\"])"
   ]
  },
  {
   "cell_type": "code",
   "execution_count": null,
   "id": "4c0e8328",
   "metadata": {},
   "outputs": [],
   "source": [
    "def p_vsharp(samples, spectrum_ids):\n",
    "    \"\"\"Returns the p-value for an asymptotic likelihood test of independence for the contingency matrix computed from the\n",
    "    two spectra corresponding to the input samples and spectrum ids.\"\"\"\n",
    "     #Compute the ML statistic.\n",
    "    table = verysharp_table(samples, spectrum_ids)\n",
    "    t = ml_stat(table)\n",
    "    \n",
    "    #The p-value is 1 - the cdf of the statistic for the d-1-dof chi^2 law where d is the number of columns of the table.\n",
    "    return 1 - st.chi2(table.shape[1]).cdf(t)"
   ]
  },
  {
   "cell_type": "code",
   "execution_count": null,
   "id": "95ef8a95",
   "metadata": {},
   "outputs": [],
   "source": [
    "ml_stat(verysharp_table([\"Ruthenium\", \"Ruthenium\"], [\"20161201_Kat-3_pos_01_1744\", \"20161201_Kat-3_pos_01_1757\"]))"
   ]
  },
  {
   "cell_type": "code",
   "execution_count": null,
   "id": "549e3ecb",
   "metadata": {},
   "outputs": [],
   "source": [
    "p_vsharp([\"Ruthenium\", \"Ruthenium\"], [\"20161201_Kat-3_pos_01_1744\", \"20161201_Kat-3_pos_01_1757\"])"
   ]
  },
  {
   "cell_type": "code",
   "execution_count": null,
   "id": "98fc79a7",
   "metadata": {},
   "outputs": [],
   "source": []
  }
 ],
 "metadata": {
  "kernelspec": {
   "display_name": "Python 3 (ipykernel)",
   "language": "python",
   "name": "python3"
  },
  "language_info": {
   "codemirror_mode": {
    "name": "ipython",
    "version": 3
   },
   "file_extension": ".py",
   "mimetype": "text/x-python",
   "name": "python",
   "nbconvert_exporter": "python",
   "pygments_lexer": "ipython3",
   "version": "3.9.12"
  }
 },
 "nbformat": 4,
 "nbformat_minor": 5
}
